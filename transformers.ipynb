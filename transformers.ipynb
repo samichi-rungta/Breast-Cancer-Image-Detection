{
  "nbformat": 4,
  "nbformat_minor": 0,
  "metadata": {
    "colab": {
      "provenance": [],
      "gpuType": "T4"
    },
    "kernelspec": {
      "name": "python3",
      "display_name": "Python 3"
    },
    "language_info": {
      "name": "python"
    },
    "accelerator": "GPU",
    "widgets": {
      "application/vnd.jupyter.widget-state+json": {
        "f4032c495af8496ab07ba1d462278775": {
          "model_module": "@jupyter-widgets/controls",
          "model_name": "HBoxModel",
          "model_module_version": "1.5.0",
          "state": {
            "_dom_classes": [],
            "_model_module": "@jupyter-widgets/controls",
            "_model_module_version": "1.5.0",
            "_model_name": "HBoxModel",
            "_view_count": null,
            "_view_module": "@jupyter-widgets/controls",
            "_view_module_version": "1.5.0",
            "_view_name": "HBoxView",
            "box_style": "",
            "children": [
              "IPY_MODEL_53e84a51c2ad45d7a977f9b87ba8a32d",
              "IPY_MODEL_7db073f6eaf84ccdbc7746335bdd7abb",
              "IPY_MODEL_de81f4cad91447f188151dfeeb29ba11"
            ],
            "layout": "IPY_MODEL_7f12c20e61664b03985a8330ee0a0f35"
          }
        },
        "53e84a51c2ad45d7a977f9b87ba8a32d": {
          "model_module": "@jupyter-widgets/controls",
          "model_name": "HTMLModel",
          "model_module_version": "1.5.0",
          "state": {
            "_dom_classes": [],
            "_model_module": "@jupyter-widgets/controls",
            "_model_module_version": "1.5.0",
            "_model_name": "HTMLModel",
            "_view_count": null,
            "_view_module": "@jupyter-widgets/controls",
            "_view_module_version": "1.5.0",
            "_view_name": "HTMLView",
            "description": "",
            "description_tooltip": null,
            "layout": "IPY_MODEL_45fbe429e01d415093fa905114745974",
            "placeholder": "​",
            "style": "IPY_MODEL_88da540ee5d04de384af4e0d363bee02",
            "value": "model.safetensors: 100%"
          }
        },
        "7db073f6eaf84ccdbc7746335bdd7abb": {
          "model_module": "@jupyter-widgets/controls",
          "model_name": "FloatProgressModel",
          "model_module_version": "1.5.0",
          "state": {
            "_dom_classes": [],
            "_model_module": "@jupyter-widgets/controls",
            "_model_module_version": "1.5.0",
            "_model_name": "FloatProgressModel",
            "_view_count": null,
            "_view_module": "@jupyter-widgets/controls",
            "_view_module_version": "1.5.0",
            "_view_name": "ProgressView",
            "bar_style": "success",
            "description": "",
            "description_tooltip": null,
            "layout": "IPY_MODEL_42e9bdb4270a4eae8ea1d85a8c85dbeb",
            "max": 346284714,
            "min": 0,
            "orientation": "horizontal",
            "style": "IPY_MODEL_ef07a2896647495d81bcd74bfeb3659f",
            "value": 346284714
          }
        },
        "de81f4cad91447f188151dfeeb29ba11": {
          "model_module": "@jupyter-widgets/controls",
          "model_name": "HTMLModel",
          "model_module_version": "1.5.0",
          "state": {
            "_dom_classes": [],
            "_model_module": "@jupyter-widgets/controls",
            "_model_module_version": "1.5.0",
            "_model_name": "HTMLModel",
            "_view_count": null,
            "_view_module": "@jupyter-widgets/controls",
            "_view_module_version": "1.5.0",
            "_view_name": "HTMLView",
            "description": "",
            "description_tooltip": null,
            "layout": "IPY_MODEL_0a984ad21724412ab2090a215fa51558",
            "placeholder": "​",
            "style": "IPY_MODEL_3c88860aa4414e68ae5f70b4a27ffe6a",
            "value": " 346M/346M [00:06&lt;00:00, 59.3MB/s]"
          }
        },
        "7f12c20e61664b03985a8330ee0a0f35": {
          "model_module": "@jupyter-widgets/base",
          "model_name": "LayoutModel",
          "model_module_version": "1.2.0",
          "state": {
            "_model_module": "@jupyter-widgets/base",
            "_model_module_version": "1.2.0",
            "_model_name": "LayoutModel",
            "_view_count": null,
            "_view_module": "@jupyter-widgets/base",
            "_view_module_version": "1.2.0",
            "_view_name": "LayoutView",
            "align_content": null,
            "align_items": null,
            "align_self": null,
            "border": null,
            "bottom": null,
            "display": null,
            "flex": null,
            "flex_flow": null,
            "grid_area": null,
            "grid_auto_columns": null,
            "grid_auto_flow": null,
            "grid_auto_rows": null,
            "grid_column": null,
            "grid_gap": null,
            "grid_row": null,
            "grid_template_areas": null,
            "grid_template_columns": null,
            "grid_template_rows": null,
            "height": null,
            "justify_content": null,
            "justify_items": null,
            "left": null,
            "margin": null,
            "max_height": null,
            "max_width": null,
            "min_height": null,
            "min_width": null,
            "object_fit": null,
            "object_position": null,
            "order": null,
            "overflow": null,
            "overflow_x": null,
            "overflow_y": null,
            "padding": null,
            "right": null,
            "top": null,
            "visibility": null,
            "width": null
          }
        },
        "45fbe429e01d415093fa905114745974": {
          "model_module": "@jupyter-widgets/base",
          "model_name": "LayoutModel",
          "model_module_version": "1.2.0",
          "state": {
            "_model_module": "@jupyter-widgets/base",
            "_model_module_version": "1.2.0",
            "_model_name": "LayoutModel",
            "_view_count": null,
            "_view_module": "@jupyter-widgets/base",
            "_view_module_version": "1.2.0",
            "_view_name": "LayoutView",
            "align_content": null,
            "align_items": null,
            "align_self": null,
            "border": null,
            "bottom": null,
            "display": null,
            "flex": null,
            "flex_flow": null,
            "grid_area": null,
            "grid_auto_columns": null,
            "grid_auto_flow": null,
            "grid_auto_rows": null,
            "grid_column": null,
            "grid_gap": null,
            "grid_row": null,
            "grid_template_areas": null,
            "grid_template_columns": null,
            "grid_template_rows": null,
            "height": null,
            "justify_content": null,
            "justify_items": null,
            "left": null,
            "margin": null,
            "max_height": null,
            "max_width": null,
            "min_height": null,
            "min_width": null,
            "object_fit": null,
            "object_position": null,
            "order": null,
            "overflow": null,
            "overflow_x": null,
            "overflow_y": null,
            "padding": null,
            "right": null,
            "top": null,
            "visibility": null,
            "width": null
          }
        },
        "88da540ee5d04de384af4e0d363bee02": {
          "model_module": "@jupyter-widgets/controls",
          "model_name": "DescriptionStyleModel",
          "model_module_version": "1.5.0",
          "state": {
            "_model_module": "@jupyter-widgets/controls",
            "_model_module_version": "1.5.0",
            "_model_name": "DescriptionStyleModel",
            "_view_count": null,
            "_view_module": "@jupyter-widgets/base",
            "_view_module_version": "1.2.0",
            "_view_name": "StyleView",
            "description_width": ""
          }
        },
        "42e9bdb4270a4eae8ea1d85a8c85dbeb": {
          "model_module": "@jupyter-widgets/base",
          "model_name": "LayoutModel",
          "model_module_version": "1.2.0",
          "state": {
            "_model_module": "@jupyter-widgets/base",
            "_model_module_version": "1.2.0",
            "_model_name": "LayoutModel",
            "_view_count": null,
            "_view_module": "@jupyter-widgets/base",
            "_view_module_version": "1.2.0",
            "_view_name": "LayoutView",
            "align_content": null,
            "align_items": null,
            "align_self": null,
            "border": null,
            "bottom": null,
            "display": null,
            "flex": null,
            "flex_flow": null,
            "grid_area": null,
            "grid_auto_columns": null,
            "grid_auto_flow": null,
            "grid_auto_rows": null,
            "grid_column": null,
            "grid_gap": null,
            "grid_row": null,
            "grid_template_areas": null,
            "grid_template_columns": null,
            "grid_template_rows": null,
            "height": null,
            "justify_content": null,
            "justify_items": null,
            "left": null,
            "margin": null,
            "max_height": null,
            "max_width": null,
            "min_height": null,
            "min_width": null,
            "object_fit": null,
            "object_position": null,
            "order": null,
            "overflow": null,
            "overflow_x": null,
            "overflow_y": null,
            "padding": null,
            "right": null,
            "top": null,
            "visibility": null,
            "width": null
          }
        },
        "ef07a2896647495d81bcd74bfeb3659f": {
          "model_module": "@jupyter-widgets/controls",
          "model_name": "ProgressStyleModel",
          "model_module_version": "1.5.0",
          "state": {
            "_model_module": "@jupyter-widgets/controls",
            "_model_module_version": "1.5.0",
            "_model_name": "ProgressStyleModel",
            "_view_count": null,
            "_view_module": "@jupyter-widgets/base",
            "_view_module_version": "1.2.0",
            "_view_name": "StyleView",
            "bar_color": null,
            "description_width": ""
          }
        },
        "0a984ad21724412ab2090a215fa51558": {
          "model_module": "@jupyter-widgets/base",
          "model_name": "LayoutModel",
          "model_module_version": "1.2.0",
          "state": {
            "_model_module": "@jupyter-widgets/base",
            "_model_module_version": "1.2.0",
            "_model_name": "LayoutModel",
            "_view_count": null,
            "_view_module": "@jupyter-widgets/base",
            "_view_module_version": "1.2.0",
            "_view_name": "LayoutView",
            "align_content": null,
            "align_items": null,
            "align_self": null,
            "border": null,
            "bottom": null,
            "display": null,
            "flex": null,
            "flex_flow": null,
            "grid_area": null,
            "grid_auto_columns": null,
            "grid_auto_flow": null,
            "grid_auto_rows": null,
            "grid_column": null,
            "grid_gap": null,
            "grid_row": null,
            "grid_template_areas": null,
            "grid_template_columns": null,
            "grid_template_rows": null,
            "height": null,
            "justify_content": null,
            "justify_items": null,
            "left": null,
            "margin": null,
            "max_height": null,
            "max_width": null,
            "min_height": null,
            "min_width": null,
            "object_fit": null,
            "object_position": null,
            "order": null,
            "overflow": null,
            "overflow_x": null,
            "overflow_y": null,
            "padding": null,
            "right": null,
            "top": null,
            "visibility": null,
            "width": null
          }
        },
        "3c88860aa4414e68ae5f70b4a27ffe6a": {
          "model_module": "@jupyter-widgets/controls",
          "model_name": "DescriptionStyleModel",
          "model_module_version": "1.5.0",
          "state": {
            "_model_module": "@jupyter-widgets/controls",
            "_model_module_version": "1.5.0",
            "_model_name": "DescriptionStyleModel",
            "_view_count": null,
            "_view_module": "@jupyter-widgets/base",
            "_view_module_version": "1.2.0",
            "_view_name": "StyleView",
            "description_width": ""
          }
        }
      }
    }
  },
  "cells": [
    {
      "cell_type": "code",
      "source": [
        "# Upload kaggle.json and configure Kaggle API\n",
        "from google.colab import files\n",
        "import os, shutil, glob\n",
        "\n",
        "files.upload()  # Upload kaggle.json\n",
        "os.makedirs(\"/root/.kaggle\", exist_ok=True)\n",
        "shutil.move(\"kaggle.json\", \"/root/.kaggle/kaggle.json\")\n",
        "os.chmod(\"/root/.kaggle/kaggle.json\", 600)\n",
        "\n",
        "# Download BreaKHis dataset\n",
        "import kagglehub\n",
        "path = kagglehub.dataset_download(\"ambarish/breakhis\")\n",
        "\n",
        "# Set up dataset path\n",
        "dataset_images_path = os.path.join(path, \"BreaKHis_v1\", \"BreaKHis_v1\", \"histology_slides\", \"breast\")\n",
        "destination = \"/content/breakhis_dataset\"\n",
        "if not os.path.exists(destination):\n",
        "    shutil.copytree(dataset_images_path, destination)\n",
        "\n",
        "# Check dataset structure\n",
        "print(\"Dataset available at:\", destination)\n",
        "print(\"Top-level folders:\", os.listdir(destination))\n",
        "\n",
        "# Count images by class and magnification\n",
        "benign_images = glob.glob(os.path.join(destination, \"benign\", \"**\", \"*.png\"), recursive=True)\n",
        "malignant_images = glob.glob(os.path.join(destination, \"malignant\", \"**\", \"*.png\"), recursive=True)\n",
        "\n",
        "magnifications = [\"40X\", \"100X\", \"200X\", \"400X\"]\n",
        "image_counts = {mag: len(glob.glob(os.path.join(destination, \"**\", mag, \"*.png\"), recursive=True)) for mag in magnifications}\n",
        "\n",
        "print(f\"Benign images: {len(benign_images)}\")\n",
        "print(f\"Malignant images: {len(malignant_images)}\")\n",
        "print(f\"Total images: {len(benign_images) + len(malignant_images)}\")\n",
        "print(\"Image counts by magnification:\", image_counts)\n"
      ],
      "metadata": {
        "id": "7wvcqAYMTLvt"
      },
      "execution_count": null,
      "outputs": []
    },
    {
      "cell_type": "code",
      "execution_count": null,
      "metadata": {
        "colab": {
          "base_uri": "https://localhost:8080/",
          "height": 90
        },
        "id": "Ff36nAF_hBLI",
        "outputId": "40e40a02-8820-457e-96b7-36daeb31f8f6"
      },
      "outputs": [
        {
          "output_type": "display_data",
          "data": {
            "text/plain": [
              "<IPython.core.display.HTML object>"
            ],
            "text/html": [
              "\n",
              "     <input type=\"file\" id=\"files-c0fe08c4-96bd-4131-bdbd-164efcfaa4f4\" name=\"files[]\" multiple disabled\n",
              "        style=\"border:none\" />\n",
              "     <output id=\"result-c0fe08c4-96bd-4131-bdbd-164efcfaa4f4\">\n",
              "      Upload widget is only available when the cell has been executed in the\n",
              "      current browser session. Please rerun this cell to enable.\n",
              "      </output>\n",
              "      <script>// Copyright 2017 Google LLC\n",
              "//\n",
              "// Licensed under the Apache License, Version 2.0 (the \"License\");\n",
              "// you may not use this file except in compliance with the License.\n",
              "// You may obtain a copy of the License at\n",
              "//\n",
              "//      http://www.apache.org/licenses/LICENSE-2.0\n",
              "//\n",
              "// Unless required by applicable law or agreed to in writing, software\n",
              "// distributed under the License is distributed on an \"AS IS\" BASIS,\n",
              "// WITHOUT WARRANTIES OR CONDITIONS OF ANY KIND, either express or implied.\n",
              "// See the License for the specific language governing permissions and\n",
              "// limitations under the License.\n",
              "\n",
              "/**\n",
              " * @fileoverview Helpers for google.colab Python module.\n",
              " */\n",
              "(function(scope) {\n",
              "function span(text, styleAttributes = {}) {\n",
              "  const element = document.createElement('span');\n",
              "  element.textContent = text;\n",
              "  for (const key of Object.keys(styleAttributes)) {\n",
              "    element.style[key] = styleAttributes[key];\n",
              "  }\n",
              "  return element;\n",
              "}\n",
              "\n",
              "// Max number of bytes which will be uploaded at a time.\n",
              "const MAX_PAYLOAD_SIZE = 100 * 1024;\n",
              "\n",
              "function _uploadFiles(inputId, outputId) {\n",
              "  const steps = uploadFilesStep(inputId, outputId);\n",
              "  const outputElement = document.getElementById(outputId);\n",
              "  // Cache steps on the outputElement to make it available for the next call\n",
              "  // to uploadFilesContinue from Python.\n",
              "  outputElement.steps = steps;\n",
              "\n",
              "  return _uploadFilesContinue(outputId);\n",
              "}\n",
              "\n",
              "// This is roughly an async generator (not supported in the browser yet),\n",
              "// where there are multiple asynchronous steps and the Python side is going\n",
              "// to poll for completion of each step.\n",
              "// This uses a Promise to block the python side on completion of each step,\n",
              "// then passes the result of the previous step as the input to the next step.\n",
              "function _uploadFilesContinue(outputId) {\n",
              "  const outputElement = document.getElementById(outputId);\n",
              "  const steps = outputElement.steps;\n",
              "\n",
              "  const next = steps.next(outputElement.lastPromiseValue);\n",
              "  return Promise.resolve(next.value.promise).then((value) => {\n",
              "    // Cache the last promise value to make it available to the next\n",
              "    // step of the generator.\n",
              "    outputElement.lastPromiseValue = value;\n",
              "    return next.value.response;\n",
              "  });\n",
              "}\n",
              "\n",
              "/**\n",
              " * Generator function which is called between each async step of the upload\n",
              " * process.\n",
              " * @param {string} inputId Element ID of the input file picker element.\n",
              " * @param {string} outputId Element ID of the output display.\n",
              " * @return {!Iterable<!Object>} Iterable of next steps.\n",
              " */\n",
              "function* uploadFilesStep(inputId, outputId) {\n",
              "  const inputElement = document.getElementById(inputId);\n",
              "  inputElement.disabled = false;\n",
              "\n",
              "  const outputElement = document.getElementById(outputId);\n",
              "  outputElement.innerHTML = '';\n",
              "\n",
              "  const pickedPromise = new Promise((resolve) => {\n",
              "    inputElement.addEventListener('change', (e) => {\n",
              "      resolve(e.target.files);\n",
              "    });\n",
              "  });\n",
              "\n",
              "  const cancel = document.createElement('button');\n",
              "  inputElement.parentElement.appendChild(cancel);\n",
              "  cancel.textContent = 'Cancel upload';\n",
              "  const cancelPromise = new Promise((resolve) => {\n",
              "    cancel.onclick = () => {\n",
              "      resolve(null);\n",
              "    };\n",
              "  });\n",
              "\n",
              "  // Wait for the user to pick the files.\n",
              "  const files = yield {\n",
              "    promise: Promise.race([pickedPromise, cancelPromise]),\n",
              "    response: {\n",
              "      action: 'starting',\n",
              "    }\n",
              "  };\n",
              "\n",
              "  cancel.remove();\n",
              "\n",
              "  // Disable the input element since further picks are not allowed.\n",
              "  inputElement.disabled = true;\n",
              "\n",
              "  if (!files) {\n",
              "    return {\n",
              "      response: {\n",
              "        action: 'complete',\n",
              "      }\n",
              "    };\n",
              "  }\n",
              "\n",
              "  for (const file of files) {\n",
              "    const li = document.createElement('li');\n",
              "    li.append(span(file.name, {fontWeight: 'bold'}));\n",
              "    li.append(span(\n",
              "        `(${file.type || 'n/a'}) - ${file.size} bytes, ` +\n",
              "        `last modified: ${\n",
              "            file.lastModifiedDate ? file.lastModifiedDate.toLocaleDateString() :\n",
              "                                    'n/a'} - `));\n",
              "    const percent = span('0% done');\n",
              "    li.appendChild(percent);\n",
              "\n",
              "    outputElement.appendChild(li);\n",
              "\n",
              "    const fileDataPromise = new Promise((resolve) => {\n",
              "      const reader = new FileReader();\n",
              "      reader.onload = (e) => {\n",
              "        resolve(e.target.result);\n",
              "      };\n",
              "      reader.readAsArrayBuffer(file);\n",
              "    });\n",
              "    // Wait for the data to be ready.\n",
              "    let fileData = yield {\n",
              "      promise: fileDataPromise,\n",
              "      response: {\n",
              "        action: 'continue',\n",
              "      }\n",
              "    };\n",
              "\n",
              "    // Use a chunked sending to avoid message size limits. See b/62115660.\n",
              "    let position = 0;\n",
              "    do {\n",
              "      const length = Math.min(fileData.byteLength - position, MAX_PAYLOAD_SIZE);\n",
              "      const chunk = new Uint8Array(fileData, position, length);\n",
              "      position += length;\n",
              "\n",
              "      const base64 = btoa(String.fromCharCode.apply(null, chunk));\n",
              "      yield {\n",
              "        response: {\n",
              "          action: 'append',\n",
              "          file: file.name,\n",
              "          data: base64,\n",
              "        },\n",
              "      };\n",
              "\n",
              "      let percentDone = fileData.byteLength === 0 ?\n",
              "          100 :\n",
              "          Math.round((position / fileData.byteLength) * 100);\n",
              "      percent.textContent = `${percentDone}% done`;\n",
              "\n",
              "    } while (position < fileData.byteLength);\n",
              "  }\n",
              "\n",
              "  // All done.\n",
              "  yield {\n",
              "    response: {\n",
              "      action: 'complete',\n",
              "    }\n",
              "  };\n",
              "}\n",
              "\n",
              "scope.google = scope.google || {};\n",
              "scope.google.colab = scope.google.colab || {};\n",
              "scope.google.colab._files = {\n",
              "  _uploadFiles,\n",
              "  _uploadFilesContinue,\n",
              "};\n",
              "})(self);\n",
              "</script> "
            ]
          },
          "metadata": {}
        },
        {
          "output_type": "stream",
          "name": "stdout",
          "text": [
            "Saving kaggle.json to kaggle.json\n"
          ]
        },
        {
          "output_type": "execute_result",
          "data": {
            "text/plain": [
              "{'kaggle.json': b'{\"username\":\"nchaitri\",\"key\":\"f854f74978bf31eed69e33bc72d1e006\"}'}"
            ]
          },
          "metadata": {},
          "execution_count": 1
        }
      ],
      "source": [
        "from google.colab import files\n",
        "files.upload()"
      ]
    },
    {
      "cell_type": "code",
      "execution_count": null,
      "metadata": {
        "id": "4QkGS17IhbrI"
      },
      "outputs": [],
      "source": [
        "import os\n",
        "import shutil\n",
        "\n",
        "# Create the .kaggle folder and move kaggle.json there\n",
        "os.makedirs(\"/root/.kaggle\", exist_ok=True)\n",
        "shutil.move(\"kaggle.json\", \"/root/.kaggle/kaggle.json\")\n",
        "\n",
        "# Set permissions\n",
        "os.chmod(\"/root/.kaggle/kaggle.json\", 600)"
      ]
    },
    {
      "cell_type": "code",
      "execution_count": null,
      "metadata": {
        "colab": {
          "base_uri": "https://localhost:8080/"
        },
        "id": "nFrcHtFVhg7v",
        "outputId": "51c83bfe-16fd-4e15-cc80-693cabab83a8"
      },
      "outputs": [
        {
          "output_type": "stream",
          "name": "stdout",
          "text": [
            "Path to dataset files: /kaggle/input/breakhis\n"
          ]
        }
      ],
      "source": [
        "import kagglehub\n",
        "\n",
        "# Download the dataset\n",
        "path = kagglehub.dataset_download(\"ambarish/breakhis\")\n",
        "\n",
        "print(\"Path to dataset files:\", path)\n"
      ]
    },
    {
      "cell_type": "code",
      "execution_count": null,
      "metadata": {
        "colab": {
          "base_uri": "https://localhost:8080/"
        },
        "id": "fUjkirquiKFg",
        "outputId": "006ff864-b9b0-472f-90a4-4fd00f3232fc"
      },
      "outputs": [
        {
          "output_type": "stream",
          "name": "stdout",
          "text": [
            "Files in dataset directory: ['BreaKHis_v1', 'Folds.csv']\n"
          ]
        }
      ],
      "source": [
        "import os\n",
        "\n",
        "# Check the downloaded files\n",
        "dataset_path = path  # This is the directory, not a ZIP file\n",
        "\n",
        "# List all files and folders inside the dataset directory\n",
        "files = os.listdir(dataset_path)\n",
        "print(\"Files in dataset directory:\", files)\n"
      ]
    },
    {
      "cell_type": "code",
      "execution_count": null,
      "metadata": {
        "colab": {
          "base_uri": "https://localhost:8080/"
        },
        "id": "J-TcjDzZi4xf",
        "outputId": "f56f94cb-16ac-41a1-bee8-be799d9d45f1"
      },
      "outputs": [
        {
          "output_type": "stream",
          "name": "stdout",
          "text": [
            "Corrected dataset path: /kaggle/input/breakhis/BreaKHis_v1/BreaKHis_v1/histology_slides/breast\n",
            "Categories: ['README.txt', 'benign', 'count_files.sh', 'malignant']\n"
          ]
        }
      ],
      "source": [
        "import os\n",
        "\n",
        "# Correct path to images\n",
        "dataset_images_path = os.path.join(dataset_path,\n",
        "                                   \"BreaKHis_v1\",\n",
        "                                   \"BreaKHis_v1\",\n",
        "                                   \"histology_slides\",\n",
        "                                   \"breast\")\n",
        "\n",
        "# Check if the path exists\n",
        "if os.path.exists(dataset_images_path):\n",
        "    print(\"Corrected dataset path:\", dataset_images_path)\n",
        "    print(\"Categories:\", os.listdir(dataset_images_path))  # Should show ['malignant', 'benign']\n",
        "else:\n",
        "    print(\"Path not found!\")\n"
      ]
    },
    {
      "cell_type": "code",
      "execution_count": null,
      "metadata": {
        "colab": {
          "base_uri": "https://localhost:8080/"
        },
        "id": "DjE06YF_lpYY",
        "outputId": "feee8fb6-3f23-443a-b488-cba79e5ff328"
      },
      "outputs": [
        {
          "output_type": "stream",
          "name": "stdout",
          "text": [
            "Dataset is now available at: /content/breakhis_dataset\n",
            "Final structure: ['count_files.sh', 'malignant', 'README.txt', 'benign']\n"
          ]
        }
      ],
      "source": [
        "import shutil\n",
        "\n",
        "destination = \"/content/breakhis_dataset\"\n",
        "\n",
        "if not os.path.exists(destination):\n",
        "    shutil.copytree(dataset_images_path, destination)\n",
        "\n",
        "print(\"Dataset is now available at:\", destination)\n",
        "print(\"Final structure:\", os.listdir(destination))\n"
      ]
    },
    {
      "cell_type": "code",
      "execution_count": null,
      "metadata": {
        "colab": {
          "base_uri": "https://localhost:8080/"
        },
        "id": "K6cBTi1wmPW-",
        "outputId": "dc9ea6bf-106d-4af1-ef78-3bbe1ba9c8e8"
      },
      "outputs": [
        {
          "output_type": "stream",
          "name": "stdout",
          "text": [
            "Contents of dataset_path: ['count_files.sh', 'malignant', 'README.txt', 'benign']\n"
          ]
        }
      ],
      "source": [
        "import os\n",
        "\n",
        "# Check what exists inside /content/breakhis_dataset\n",
        "dataset_path = \"/content/breakhis_dataset\"\n",
        "\n",
        "print(\"Contents of dataset_path:\", os.listdir(dataset_path))\n"
      ]
    },
    {
      "cell_type": "code",
      "execution_count": null,
      "metadata": {
        "colab": {
          "base_uri": "https://localhost:8080/"
        },
        "id": "M10NFh7tm2kA",
        "outputId": "5ef239f2-b236-4666-bb9c-9a9828a9db5f"
      },
      "outputs": [
        {
          "output_type": "stream",
          "name": "stdout",
          "text": [
            "\n",
            "Contents of benign: ['phyllodes_tumor.stat.txt', 'SOB', 'process_db_stat.py', 'README_B.txt', 'tubular_adenoma.stat.txt', 'adenosis.stat.txt', 'fibroadenoma.stat.txt']\n",
            "\n",
            "Contents of SOB folder in benign: ['adenosis', 'fibroadenoma', 'tubular_adenoma', 'phyllodes_tumor']\n",
            "\n",
            "Contents of malignant: ['SOB', 'ductal_carcinoma.stat.txt.SOB', 'process_db_stat.py', 'papillary_carcinoma.stat.txt', 'mucinous_carcinoma.stat.txt', 'ductal_carcinoma.stat.txt', 'lobular_carcinoma.stat.txt']\n",
            "\n",
            "Contents of SOB folder in malignant: ['papillary_carcinoma', 'mucinous_carcinoma', 'ductal_carcinoma', 'lobular_carcinoma']\n"
          ]
        }
      ],
      "source": [
        "import os\n",
        "\n",
        "dataset_path = \"/content/breakhis_dataset\"\n",
        "\n",
        "for class_name in [\"benign\", \"malignant\"]:\n",
        "    class_path = os.path.join(dataset_path, class_name)\n",
        "    print(f\"\\nContents of {class_name}: {os.listdir(class_path)}\")\n",
        "\n",
        "    sob_path = os.path.join(class_path, \"SOB\")\n",
        "    if os.path.exists(sob_path):\n",
        "        print(f\"\\nContents of SOB folder in {class_name}: {os.listdir(sob_path)}\")\n"
      ]
    },
    {
      "cell_type": "code",
      "execution_count": null,
      "metadata": {
        "colab": {
          "base_uri": "https://localhost:8080/"
        },
        "id": "-tbJwBfEnZu3",
        "outputId": "41254ed9-0d95-4fff-fdaa-3941c15fdc0d"
      },
      "outputs": [
        {
          "output_type": "stream",
          "name": "stdout",
          "text": [
            "Found 7909 images.\n",
            "Sample file paths: ['/content/breakhis_dataset/malignant/SOB/papillary_carcinoma/SOB_M_PC_14-15704/400X/SOB_M_PC-14-15704-400-001.png', '/content/breakhis_dataset/malignant/SOB/papillary_carcinoma/SOB_M_PC_14-15704/400X/SOB_M_PC-14-15704-400-031.png', '/content/breakhis_dataset/malignant/SOB/papillary_carcinoma/SOB_M_PC_14-15704/400X/SOB_M_PC-14-15704-400-016.png', '/content/breakhis_dataset/malignant/SOB/papillary_carcinoma/SOB_M_PC_14-15704/400X/SOB_M_PC-14-15704-400-009.png', '/content/breakhis_dataset/malignant/SOB/papillary_carcinoma/SOB_M_PC_14-15704/400X/SOB_M_PC-14-15704-400-022.png']\n"
          ]
        }
      ],
      "source": [
        "import glob\n",
        "\n",
        "dataset_path = \"/content/breakhis_dataset\"\n",
        "\n",
        "# Find all PNG files in subdirectories\n",
        "image_files = glob.glob(os.path.join(dataset_path, \"**\", \"*.png\"), recursive=True)\n",
        "\n",
        "print(\"Found\", len(image_files), \"images.\")\n",
        "print(\"Sample file paths:\", image_files[:5])  # Show first 5 images\n"
      ]
    },
    {
      "cell_type": "code",
      "execution_count": null,
      "metadata": {
        "colab": {
          "base_uri": "https://localhost:8080/"
        },
        "id": "F2xU9rDHn2Wv",
        "outputId": "2318f5c2-b6ad-49cb-ddde-7759b50d92fb"
      },
      "outputs": [
        {
          "output_type": "stream",
          "name": "stdout",
          "text": [
            "Benign subfolders: ['phyllodes_tumor.stat.txt', 'SOB', 'process_db_stat.py', 'README_B.txt', 'tubular_adenoma.stat.txt', 'adenosis.stat.txt', 'fibroadenoma.stat.txt']\n",
            "Malignant subfolders: ['SOB', 'ductal_carcinoma.stat.txt.SOB', 'process_db_stat.py', 'papillary_carcinoma.stat.txt', 'mucinous_carcinoma.stat.txt', 'ductal_carcinoma.stat.txt', 'lobular_carcinoma.stat.txt']\n"
          ]
        }
      ],
      "source": [
        "import os\n",
        "\n",
        "dataset_path = \"/content/breakhis_dataset\"\n",
        "\n",
        "print(\"Benign subfolders:\", os.listdir(os.path.join(dataset_path, \"benign\")))\n",
        "print(\"Malignant subfolders:\", os.listdir(os.path.join(dataset_path, \"malignant\")))\n"
      ]
    },
    {
      "cell_type": "code",
      "execution_count": null,
      "metadata": {
        "colab": {
          "base_uri": "https://localhost:8080/"
        },
        "id": "qmJpqyBcoMrf",
        "outputId": "d8fcff1d-c32d-44bd-a571-8c69480e4de8"
      },
      "outputs": [
        {
          "output_type": "stream",
          "name": "stdout",
          "text": [
            "Benign SOB contents: ['adenosis', 'fibroadenoma', 'tubular_adenoma', 'phyllodes_tumor']\n",
            "Malignant SOB contents: ['papillary_carcinoma', 'mucinous_carcinoma', 'ductal_carcinoma', 'lobular_carcinoma']\n"
          ]
        }
      ],
      "source": [
        "import os\n",
        "\n",
        "dataset_path = \"/content/breakhis_dataset\"\n",
        "\n",
        "# List directories inside the SOB folder\n",
        "benign_sob_path = os.path.join(dataset_path, \"benign\", \"SOB\")\n",
        "malignant_sob_path = os.path.join(dataset_path, \"malignant\", \"SOB\")\n",
        "\n",
        "print(\"Benign SOB contents:\", os.listdir(benign_sob_path))\n",
        "print(\"Malignant SOB contents:\", os.listdir(malignant_sob_path))\n"
      ]
    },
    {
      "cell_type": "code",
      "execution_count": null,
      "metadata": {
        "colab": {
          "base_uri": "https://localhost:8080/"
        },
        "id": "SUpCJ6K_oQzf",
        "outputId": "3c038ced-3886-486f-d5ed-08e3afac2d51"
      },
      "outputs": [
        {
          "output_type": "stream",
          "name": "stdout",
          "text": [
            "Image counts per magnification: {'40X': 1995, '100X': 2081, '200X': 2013, '400X': 1820}\n"
          ]
        }
      ],
      "source": [
        "import glob\n",
        "\n",
        "magnifications = [\"40X\", \"100X\", \"200X\", \"400X\"]\n",
        "image_counts = {}\n",
        "\n",
        "for mag in magnifications:\n",
        "    images = glob.glob(os.path.join(dataset_path, \"**\", mag, \"*.png\"), recursive=True)\n",
        "    image_counts[mag] = len(images)\n",
        "\n",
        "print(\"Image counts per magnification:\", image_counts)\n"
      ]
    },
    {
      "cell_type": "code",
      "execution_count": null,
      "metadata": {
        "colab": {
          "base_uri": "https://localhost:8080/"
        },
        "id": "kzAye8AfpE-X",
        "outputId": "16602303-1f51-4686-97b1-e0594e7aa508"
      },
      "outputs": [
        {
          "output_type": "stream",
          "name": "stdout",
          "text": [
            "Benign images found: 2480\n",
            "Malignant images found: 5429\n",
            "Total images found: 7909\n"
          ]
        }
      ],
      "source": [
        "import glob\n",
        "\n",
        "benign_images = glob.glob(os.path.join(dataset_path, \"benign\", \"**\", \"*.png\"), recursive=True)\n",
        "malignant_images = glob.glob(os.path.join(dataset_path, \"malignant\", \"**\", \"*.png\"), recursive=True)\n",
        "\n",
        "print(f\"Benign images found: {len(benign_images)}\")\n",
        "print(f\"Malignant images found: {len(malignant_images)}\")\n",
        "print(f\"Total images found: {len(benign_images) + len(malignant_images)}\")\n"
      ]
    },
    {
      "cell_type": "code",
      "source": [
        "# Just a helper cell to reload ViT setup later\n",
        "!pip install timm --quiet\n",
        "import timm\n",
        "import torch.nn as nn\n",
        "vit_model = timm.create_model('vit_base_patch16_224', pretrained=True)\n",
        "vit_model.head = nn.Linear(vit_model.head.in_features, 1)\n"
      ],
      "metadata": {
        "colab": {
          "base_uri": "https://localhost:8080/",
          "height": 153,
          "referenced_widgets": [
            "f4032c495af8496ab07ba1d462278775",
            "53e84a51c2ad45d7a977f9b87ba8a32d",
            "7db073f6eaf84ccdbc7746335bdd7abb",
            "de81f4cad91447f188151dfeeb29ba11",
            "7f12c20e61664b03985a8330ee0a0f35",
            "45fbe429e01d415093fa905114745974",
            "88da540ee5d04de384af4e0d363bee02",
            "42e9bdb4270a4eae8ea1d85a8c85dbeb",
            "ef07a2896647495d81bcd74bfeb3659f",
            "0a984ad21724412ab2090a215fa51558",
            "3c88860aa4414e68ae5f70b4a27ffe6a"
          ]
        },
        "id": "V9AxreeflwI-",
        "outputId": "7c56138f-8234-447f-d7fd-d1c544d0ed65"
      },
      "execution_count": null,
      "outputs": [
        {
          "output_type": "stream",
          "name": "stderr",
          "text": [
            "/usr/local/lib/python3.11/dist-packages/huggingface_hub/utils/_auth.py:94: UserWarning: \n",
            "The secret `HF_TOKEN` does not exist in your Colab secrets.\n",
            "To authenticate with the Hugging Face Hub, create a token in your settings tab (https://huggingface.co/settings/tokens), set it as secret in your Google Colab and restart your session.\n",
            "You will be able to reuse this secret in all of your notebooks.\n",
            "Please note that authentication is recommended but still optional to access public models or datasets.\n",
            "  warnings.warn(\n"
          ]
        },
        {
          "output_type": "display_data",
          "data": {
            "text/plain": [
              "model.safetensors:   0%|          | 0.00/346M [00:00<?, ?B/s]"
            ],
            "application/vnd.jupyter.widget-view+json": {
              "version_major": 2,
              "version_minor": 0,
              "model_id": "f4032c495af8496ab07ba1d462278775"
            }
          },
          "metadata": {}
        }
      ]
    },
    {
      "cell_type": "code",
      "execution_count": null,
      "metadata": {
        "colab": {
          "base_uri": "https://localhost:8080/",
          "height": 889
        },
        "id": "BCKGiIB-QBL0",
        "outputId": "8ff52f5b-337f-4e4a-c8b1-c8de62df4241"
      },
      "outputs": [
        {
          "output_type": "stream",
          "name": "stdout",
          "text": [
            "Using device: cuda\n"
          ]
        },
        {
          "output_type": "stream",
          "name": "stderr",
          "text": [
            "Epoch 1: 100%|██████████| 198/198 [03:29<00:00,  1.06s/it]\n"
          ]
        },
        {
          "output_type": "stream",
          "name": "stdout",
          "text": [
            "Epoch 1/5, Loss: 0.2098\n"
          ]
        },
        {
          "output_type": "stream",
          "name": "stderr",
          "text": [
            "Epoch 2: 100%|██████████| 198/198 [03:28<00:00,  1.05s/it]\n"
          ]
        },
        {
          "output_type": "stream",
          "name": "stdout",
          "text": [
            "Epoch 2/5, Loss: 0.0714\n"
          ]
        },
        {
          "output_type": "stream",
          "name": "stderr",
          "text": [
            "Epoch 3: 100%|██████████| 198/198 [03:28<00:00,  1.05s/it]\n"
          ]
        },
        {
          "output_type": "stream",
          "name": "stdout",
          "text": [
            "Epoch 3/5, Loss: 0.0514\n"
          ]
        },
        {
          "output_type": "stream",
          "name": "stderr",
          "text": [
            "Epoch 4: 100%|██████████| 198/198 [03:28<00:00,  1.05s/it]\n"
          ]
        },
        {
          "output_type": "stream",
          "name": "stdout",
          "text": [
            "Epoch 4/5, Loss: 0.0093\n"
          ]
        },
        {
          "output_type": "stream",
          "name": "stderr",
          "text": [
            "Epoch 5: 100%|██████████| 198/198 [03:28<00:00,  1.05s/it]"
          ]
        },
        {
          "output_type": "stream",
          "name": "stdout",
          "text": [
            "Epoch 5/5, Loss: 0.0009\n"
          ]
        },
        {
          "output_type": "stream",
          "name": "stderr",
          "text": [
            "\n"
          ]
        },
        {
          "output_type": "stream",
          "name": "stdout",
          "text": [
            "\n",
            "Test Accuracy: 98.99%\n",
            "\n",
            "Classification Report:\n",
            "              precision    recall  f1-score   support\n",
            "\n",
            "      Benign       0.99      0.98      0.98       496\n",
            "   Malignant       0.99      1.00      0.99      1086\n",
            "\n",
            "    accuracy                           0.99      1582\n",
            "   macro avg       0.99      0.99      0.99      1582\n",
            "weighted avg       0.99      0.99      0.99      1582\n",
            "\n"
          ]
        },
        {
          "output_type": "display_data",
          "data": {
            "text/plain": [
              "<Figure size 640x480 with 2 Axes>"
            ],
            "image/png": "[encoded data removed]"
          },
          "metadata": {}
        }
      ],
      "source": [
        "# Install required packages if not already installed\n",
        "!pip install timm --quiet\n",
        "\n",
        "# Imports\n",
        "import os\n",
        "import glob\n",
        "import numpy as np\n",
        "import pandas as pd\n",
        "import torch\n",
        "import torch.nn as nn\n",
        "import torch.optim as optim\n",
        "import torchvision.transforms as transforms\n",
        "import matplotlib.pyplot as plt\n",
        "import seaborn as sns\n",
        "from PIL import Image\n",
        "from tqdm import tqdm\n",
        "from sklearn.model_selection import train_test_split\n",
        "from sklearn.metrics import accuracy_score, classification_report, confusion_matrix\n",
        "from torch.utils.data import Dataset, DataLoader\n",
        "import timm\n",
        "\n",
        "# Define device\n",
        "device = torch.device(\"cuda\" if torch.cuda.is_available() else \"cpu\")\n",
        "print(f\"Using device: {device}\")\n",
        "\n",
        "# Dataset path\n",
        "#dataset_path = \"/content/breakhis_dataset\"\n",
        "\n",
        "# Define transformations\n",
        "IMG_SIZE = 224\n",
        "transform = transforms.Compose([\n",
        "    transforms.Resize((IMG_SIZE, IMG_SIZE)),\n",
        "    transforms.RandomHorizontalFlip(),\n",
        "    transforms.RandomRotation(10),\n",
        "    transforms.ToTensor(),\n",
        "    transforms.Normalize(mean=[0.5, 0.5, 0.5], std=[0.5, 0.5, 0.5])\n",
        "])\n",
        "\n",
        "# Load image paths and labels\n",
        "data = []\n",
        "for label in [\"benign\", \"malignant\"]:\n",
        "    class_path = os.path.join(dataset_path, label, \"SOB\")\n",
        "    if os.path.isdir(class_path):\n",
        "        for subtype in os.listdir(class_path):\n",
        "            subtype_path = os.path.join(class_path, subtype)\n",
        "            if os.path.isdir(subtype_path):\n",
        "                for sample in os.listdir(subtype_path):\n",
        "                    sample_path = os.path.join(subtype_path, sample)\n",
        "                    if os.path.isdir(sample_path):\n",
        "                        for mag in [\"40X\", \"100X\", \"200X\", \"400X\"]:\n",
        "                            mag_path = os.path.join(sample_path, mag)\n",
        "                            if os.path.isdir(mag_path):\n",
        "                                for img_file in glob.glob(os.path.join(mag_path, \"*.png\")):\n",
        "                                    data.append([img_file, label, mag])\n",
        "\n",
        "# Create DataFrame\n",
        "df = pd.DataFrame(data, columns=[\"image_path\", \"label\", \"magnification\"])\n",
        "df[\"label\"] = df[\"label\"].map({\"benign\": 0, \"malignant\": 1})\n",
        "\n",
        "# Split data\n",
        "train_df, test_df = train_test_split(df, test_size=0.2, stratify=df[\"label\"], random_state=42)\n",
        "\n",
        "# Custom Dataset class\n",
        "class BreakHisDataset(Dataset):\n",
        "    def __init__(self, dataframe, transform=None):\n",
        "        self.dataframe = dataframe\n",
        "        self.transform = transform\n",
        "\n",
        "    def __len__(self):\n",
        "        return len(self.dataframe)\n",
        "\n",
        "    def __getitem__(self, idx):\n",
        "        img_path = self.dataframe.iloc[idx][\"image_path\"]\n",
        "        label = self.dataframe.iloc[idx][\"label\"]\n",
        "        image = Image.open(img_path).convert(\"RGB\")\n",
        "        if self.transform:\n",
        "            image = self.transform(image)\n",
        "        return image, label\n",
        "\n",
        "# Datasets and loaders\n",
        "train_dataset = BreakHisDataset(train_df, transform=transform)\n",
        "test_dataset = BreakHisDataset(test_df, transform=transform)\n",
        "\n",
        "train_loader = DataLoader(train_dataset, batch_size=32, shuffle=True, num_workers=2)\n",
        "test_loader = DataLoader(test_dataset, batch_size=32, shuffle=False, num_workers=2)\n",
        "\n",
        "# Load ViT base model and modify head for binary classification\n",
        "vit_model = timm.create_model('vit_base_patch16_224', pretrained=True)\n",
        "vit_model.head = nn.Linear(vit_model.head.in_features, 1)\n",
        "vit_model = vit_model.to(device)\n",
        "\n",
        "# Loss and optimizer\n",
        "criterion = nn.BCEWithLogitsLoss()\n",
        "optimizer = optim.Adam(vit_model.parameters(), lr=3e-5)\n",
        "scheduler = optim.lr_scheduler.StepLR(optimizer, step_size=3, gamma=0.5)\n",
        "\n",
        "# Training loop\n",
        "num_epochs = 5\n",
        "for epoch in range(num_epochs):\n",
        "    vit_model.train()\n",
        "    total_loss = 0\n",
        "    for images, labels in tqdm(train_loader, desc=f\"Epoch {epoch+1}\"):\n",
        "        images, labels = images.to(device), labels.to(device, dtype=torch.float32)\n",
        "        optimizer.zero_grad()\n",
        "        outputs = vit_model(images).squeeze()\n",
        "        loss = criterion(outputs, labels)\n",
        "        loss.backward()\n",
        "        optimizer.step()\n",
        "        total_loss += loss.item()\n",
        "    scheduler.step()\n",
        "    print(f\"Epoch {epoch+1}/{num_epochs}, Loss: {total_loss / len(train_loader):.4f}\")\n",
        "\n",
        "# Evaluation\n",
        "vit_model.eval()\n",
        "predictions, true_labels = [], []\n",
        "with torch.no_grad():\n",
        "    for images, labels in test_loader:\n",
        "        images = images.to(device)\n",
        "        labels = labels.to(device, dtype=torch.float32)\n",
        "        outputs = vit_model(images).squeeze()\n",
        "        preds = torch.sigmoid(outputs) > 0.5\n",
        "        predictions.extend(preds.cpu().numpy())\n",
        "        true_labels.extend(labels.cpu().numpy())\n",
        "\n",
        "# Accuracy and metrics\n",
        "acc = accuracy_score(true_labels, predictions)\n",
        "print(f\"\\nTest Accuracy: {acc * 100:.2f}%\")\n",
        "print(\"\\nClassification Report:\")\n",
        "print(classification_report(true_labels, predictions, target_names=[\"Benign\", \"Malignant\"]))\n",
        "\n",
        "# Confusion matrix\n",
        "cm = confusion_matrix(true_labels, predictions)\n",
        "sns.heatmap(cm, annot=True, fmt=\"d\", cmap=\"Blues\", xticklabels=[\"Benign\", \"Malignant\"], yticklabels=[\"Benign\", \"Malignant\"])\n",
        "plt.title(\"ViT - Confusion Matrix\")\n",
        "plt.xlabel(\"Predicted\")\n",
        "plt.ylabel(\"Actual\")\n",
        "plt.show()\n",
        "\n",
        "from sklearn.metrics import roc_curve, roc_auc_score\n",
        "\n",
        "# Probabilities\n",
        "probs = torch.sigmoid(torch.tensor(outputs)).cpu().numpy()\n",
        "fpr, tpr, _ = roc_curve(true_labels, probs)\n",
        "roc_auc = roc_auc_score(true_labels, probs)\n",
        "\n",
        "plt.figure()\n",
        "plt.plot(fpr, tpr, label=f\"ROC curve (area = {roc_auc:.2f})\")\n",
        "plt.plot([0, 1], [0, 1], \"k--\")\n",
        "plt.xlabel(\"False Positive Rate\")\n",
        "plt.ylabel(\"True Positive Rate\")\n",
        "plt.title(\"ROC Curve\")\n",
        "plt.legend(loc=\"lower right\")\n",
        "plt.show()\n"
      ]
    },
    {
      "cell_type": "code",
      "source": [
        "# Install required packages if not already installed\n",
        "!pip install timm --quiet\n",
        "\n",
        "# Imports\n",
        "import os\n",
        "import glob\n",
        "import numpy as np\n",
        "import pandas as pd\n",
        "import torch\n",
        "import torch.nn as nn\n",
        "import torch.optim as optim\n",
        "import torchvision.transforms as transforms\n",
        "import matplotlib.pyplot as plt\n",
        "import seaborn as sns\n",
        "from PIL import Image\n",
        "from tqdm import tqdm\n",
        "from sklearn.model_selection import train_test_split\n",
        "from sklearn.metrics import accuracy_score, classification_report, confusion_matrix\n",
        "from torch.utils.data import Dataset, DataLoader\n",
        "import timm\n",
        "\n",
        "# Define device\n",
        "device = torch.device(\"cuda\" if torch.cuda.is_available() else \"cpu\")\n",
        "print(f\"Using device: {device}\")\n",
        "\n",
        "# Dataset path\n",
        "#dataset_path = \"/content/breakhis_dataset\"\n",
        "\n",
        "# Define transformations\n",
        "IMG_SIZE = 224\n",
        "transform = transforms.Compose([\n",
        "    transforms.Resize((IMG_SIZE, IMG_SIZE)),\n",
        "    transforms.RandomHorizontalFlip(),\n",
        "    transforms.RandomRotation(10),\n",
        "    transforms.ToTensor(),\n",
        "    transforms.Normalize(mean=[0.5, 0.5, 0.5], std=[0.5, 0.5, 0.5])\n",
        "])\n",
        "\n",
        "# Load image paths and labels\n",
        "data = []\n",
        "for label in [\"benign\", \"malignant\"]:\n",
        "    class_path = os.path.join(dataset_path, label, \"SOB\")\n",
        "    if os.path.isdir(class_path):\n",
        "        for subtype in os.listdir(class_path):\n",
        "            subtype_path = os.path.join(class_path, subtype)\n",
        "            if os.path.isdir(subtype_path):\n",
        "                for sample in os.listdir(subtype_path):\n",
        "                    sample_path = os.path.join(subtype_path, sample)\n",
        "                    if os.path.isdir(sample_path):\n",
        "                        for mag in [\"40X\", \"100X\", \"200X\", \"400X\"]:\n",
        "                            mag_path = os.path.join(sample_path, mag)\n",
        "                            if os.path.isdir(mag_path):\n",
        "                                for img_file in glob.glob(os.path.join(mag_path, \"*.png\")):\n",
        "                                    data.append([img_file, label, mag])\n",
        "\n",
        "# Create DataFrame\n",
        "df = pd.DataFrame(data, columns=[\"image_path\", \"label\", \"magnification\"])\n",
        "df[\"label\"] = df[\"label\"].map({\"benign\": 0, \"malignant\": 1})\n",
        "\n",
        "# Split data\n",
        "train_df, test_df = train_test_split(df, test_size=0.2, stratify=df[\"label\"], random_state=42)\n",
        "\n",
        "# Custom Dataset class\n",
        "class BreakHisDataset(Dataset):\n",
        "    def __init__(self, dataframe, transform=None):\n",
        "        self.dataframe = dataframe\n",
        "        self.transform = transform\n",
        "\n",
        "    def __len__(self):\n",
        "        return len(self.dataframe)\n",
        "\n",
        "    def __getitem__(self, idx):\n",
        "        img_path = self.dataframe.iloc[idx][\"image_path\"]\n",
        "        label = self.dataframe.iloc[idx][\"label\"]\n",
        "        image = Image.open(img_path).convert(\"RGB\")\n",
        "        if self.transform:\n",
        "            image = self.transform(image)\n",
        "        return image, label\n",
        "\n",
        "# Datasets and loaders\n",
        "train_dataset = BreakHisDataset(train_df, transform=transform)\n",
        "test_dataset = BreakHisDataset(test_df, transform=transform)\n",
        "\n",
        "train_loader = DataLoader(train_dataset, batch_size=32, shuffle=True, num_workers=2)\n",
        "test_loader = DataLoader(test_dataset, batch_size=32, shuffle=False, num_workers=2)\n",
        "\n",
        "# Load ViT base model and modify head for binary classification\n",
        "vit_model = timm.create_model('vit_base_patch16_224', pretrained=True)\n",
        "vit_model.head = nn.Linear(vit_model.head.in_features, 1)\n",
        "vit_model = vit_model.to(device)\n",
        "\n",
        "# Loss and optimizer\n",
        "criterion = nn.BCEWithLogitsLoss()\n",
        "optimizer = optim.Adam(vit_model.parameters(), lr=3e-5)\n",
        "scheduler = optim.lr_scheduler.StepLR(optimizer, step_size=3, gamma=0.5)\n",
        "\n",
        "# Training loop\n",
        "num_epochs = 5\n",
        "for epoch in range(num_epochs):\n",
        "    vit_model.train()\n",
        "    total_loss = 0\n",
        "    for images, labels in tqdm(train_loader, desc=f\"Epoch {epoch+1}\"):\n",
        "        images, labels = images.to(device), labels.to(device, dtype=torch.float32)\n",
        "        optimizer.zero_grad()\n",
        "        outputs = vit_model(images).squeeze()\n",
        "        loss = criterion(outputs, labels)\n",
        "        loss.backward()\n",
        "        optimizer.step()\n",
        "        total_loss += loss.item()\n",
        "    scheduler.step()\n",
        "    print(f\"Epoch {epoch+1}/{num_epochs}, Loss: {total_loss / len(train_loader):.4f}\")\n",
        "\n",
        "# Evaluation\n",
        "vit_model.eval()\n",
        "predictions, true_labels = [], []\n",
        "with torch.no_grad():\n",
        "    for images, labels in test_loader:\n",
        "        images = images.to(device)\n",
        "        labels = labels.to(device, dtype=torch.float32)\n",
        "        outputs = vit_model(images).squeeze()\n",
        "        preds = torch.sigmoid(outputs) > 0.5\n",
        "        predictions.extend(preds.cpu().numpy())\n",
        "        true_labels.extend(labels.cpu().numpy())\n",
        "\n",
        "# Accuracy and metrics\n",
        "acc = accuracy_score(true_labels, predictions)\n",
        "print(f\"\\nTest Accuracy: {acc * 100:.2f}%\")\n",
        "print(\"\\nClassification Report:\")\n",
        "print(classification_report(true_labels, predictions, target_names=[\"Benign\", \"Malignant\"]))\n",
        "\n",
        "# Confusion matrix\n",
        "cm = confusion_matrix(true_labels, predictions)\n",
        "sns.heatmap(cm, annot=True, fmt=\"d\", cmap=\"Blues\", xticklabels=[\"Benign\", \"Malignant\"], yticklabels=[\"Benign\", \"Malignant\"])\n",
        "plt.title(\"ViT - Confusion Matrix\")\n",
        "plt.xlabel(\"Predicted\")\n",
        "plt.ylabel(\"Actual\")\n",
        "plt.show()\n"
      ],
      "metadata": {
        "id": "QEm17UKDrBun"
      },
      "execution_count": null,
      "outputs": []
    }
  ]
}